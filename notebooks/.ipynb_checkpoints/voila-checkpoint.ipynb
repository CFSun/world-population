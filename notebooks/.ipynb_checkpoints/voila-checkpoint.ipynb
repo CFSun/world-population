{
 "cells": [
  {
   "cell_type": "markdown",
   "metadata": {},
   "source": [
    "## Looking for world population?\n",
    " - The last data from the World Bank is the global county population in 2016\n",
    " - You can find the top countries of populations\n",
    " - You also can find it in the world map.\n",
    " ---"
   ]
  },
  {
   "cell_type": "code",
   "execution_count": 1,
   "metadata": {},
   "outputs": [],
   "source": [
    "import numpy as np\n",
    "import pandas as pd \n",
    "import matplotlib.pyplot as plt\n",
    "from ipywidgets import interactive\n",
    "%matplotlib inline"
   ]
  },
  {
   "cell_type": "code",
   "execution_count": null,
   "metadata": {},
   "outputs": [],
   "source": [
    "def plot_func(a, f):\n",
    "    plt.figure(2)\n",
    "    x = np.linspace(0, 2*np.pi, num=1000)\n",
    "    y = a*np.sin(1/f*x)\n",
    "    plt.plot(x,y)\n",
    "    plt.ylim(-1.1, 1.1)\n",
    "    plt.title('a sin(f)')\n",
    "    plt.show()\n",
    "\n",
    "interactive_plot = interactive(plot_func, a=(-1,0,0.1), f=(0.1, 1))\n",
    "output = interactive_plot.children[-1]\n",
    "output.layout.height = '300px'\n",
    "interactive_plot"
   ]
  },
  {
   "cell_type": "code",
   "execution_count": null,
   "metadata": {},
   "outputs": [],
   "source": [
    "# read in population data from internet\n",
    "import pandas as pd \n",
    "import datapackage\n",
    "\n",
    "data_url = 'https://datahub.io/JohnSnowLabs/population-figures-by-country/datapackage.json'\n",
    "\n",
    "# to load Data Package into storage\n",
    "package = datapackage.Package(data_url)\n",
    "\n",
    "# to load only tabular data\n",
    "resources = package.resources\n",
    "for resource in resources:\n",
    "    if resource.tabular:\n",
    "        df = pd.read_csv(resource.descriptor['path'])\n",
    "df.set_index(\"Country_Code\", inplace = True) \n"
   ]
  },
  {
   "cell_type": "code",
   "execution_count": null,
   "metadata": {},
   "outputs": [],
   "source": [
    "# df.head()\n",
    "# print(df.shape)\n",
    "\n",
    "# the most recent year: 2016\n",
    "df16= df.iloc[:, -1]\n",
    "# df16.sort_values().tail(20)\n",
    "\n",
    "\n",
    "url = \"https://gist.githubusercontent.com/tadast/8827699/raw/3cd639fa34eec5067080a61c69e3ae25e3076abb/countries_codes_and_coordinates.csv\"\n",
    "df_code3 = pd.read_csv(url)\n",
    "code3 = df_code3[\"Alpha-3 code\"][0]\n",
    "\n",
    "# for i, c in enumerate(code3):\n",
    "#     print(i,c)\n",
    "# # the length is not 3, and the longtitude/latitude have the same problem. \n",
    "\n",
    "# reset to \n",
    "df_code3[\"Code3\"] = df_code3[\"Alpha-3 code\"].map(lambda x: x.strip()[1:-1] )\n",
    "df_code3[\"Lat\"] = df_code3[\"Latitude (average)\"].map(lambda x: x.strip()[1:-1]) \n",
    "df_code3[\"Long\"] = df_code3[\"Longitude (average)\"].map(lambda x: x.strip()[1:-1]) \n",
    "\n",
    "# set index \n",
    "df_code3.set_index(\"Code3\", inplace=True )\n",
    "\n",
    "# keep only the long and lat cols.\n",
    "df_code3=df_code3.iloc[:, [-2, -1]]\n",
    "# df_code3.shape # 256 rows\n"
   ]
  }
 ],
 "metadata": {
  "kernelspec": {
   "display_name": "Python 3",
   "language": "python",
   "name": "python3"
  },
  "language_info": {
   "codemirror_mode": {
    "name": "ipython",
    "version": 3
   },
   "file_extension": ".py",
   "mimetype": "text/x-python",
   "name": "python",
   "nbconvert_exporter": "python",
   "pygments_lexer": "ipython3",
   "version": "3.7.6"
  },
  "toc": {
   "base_numbering": 1,
   "nav_menu": {},
   "number_sections": true,
   "sideBar": true,
   "skip_h1_title": false,
   "title_cell": "Table of Contents",
   "title_sidebar": "Contents",
   "toc_cell": false,
   "toc_position": {},
   "toc_section_display": true,
   "toc_window_display": false
  },
  "varInspector": {
   "cols": {
    "lenName": 16,
    "lenType": 16,
    "lenVar": 40
   },
   "kernels_config": {
    "python": {
     "delete_cmd_postfix": "",
     "delete_cmd_prefix": "del ",
     "library": "var_list.py",
     "varRefreshCmd": "print(var_dic_list())"
    },
    "r": {
     "delete_cmd_postfix": ") ",
     "delete_cmd_prefix": "rm(",
     "library": "var_list.r",
     "varRefreshCmd": "cat(var_dic_list()) "
    }
   },
   "types_to_exclude": [
    "module",
    "function",
    "builtin_function_or_method",
    "instance",
    "_Feature"
   ],
   "window_display": false
  }
 },
 "nbformat": 4,
 "nbformat_minor": 4
}
