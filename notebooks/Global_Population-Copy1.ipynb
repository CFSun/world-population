{
 "cells": [
  {
   "cell_type": "markdown",
   "metadata": {},
   "source": [
    "## Looking for world population?\n",
    "\n",
    " - The last data from the World Bank is the global county population in 2016\n",
    " - You can find the top countries of populations\n",
    " - You also can find it in the world map."
   ]
  },
  {
   "cell_type": "markdown",
   "metadata": {},
   "source": [
    "---"
   ]
  },
  {
   "cell_type": "code",
   "execution_count": null,
   "metadata": {},
   "outputs": [],
   "source": [
    "#pip install datapackage"
   ]
  },
  {
   "cell_type": "code",
   "execution_count": null,
   "metadata": {},
   "outputs": [],
   "source": [
    "# Some world data are summarized data\n",
    "# - we are looking for single country population data"
   ]
  },
  {
   "cell_type": "code",
   "execution_count": null,
   "metadata": {},
   "outputs": [],
   "source": [
    "# Import pandas \n",
    "import pandas as pd \n",
    "import datapackage\n",
    "import matplotlib.pyplot as plt\n",
    "\n",
    "# interact:  Draw a bar by top numbers\n",
    "from ipywidgets import interact\n"
   ]
  },
  {
   "cell_type": "code",
   "execution_count": null,
   "metadata": {},
   "outputs": [],
   "source": [
    "data_url = 'https://datahub.io/JohnSnowLabs/population-figures-by-country/datapackage.json'\n",
    "\n",
    "# to load Data Package into storage\n",
    "package = datapackage.Package(data_url)\n",
    "\n",
    "# to load only tabular data\n",
    "resources = package.resources\n",
    "for resource in resources:\n",
    "    if resource.tabular:\n",
    "        df = pd.read_csv(resource.descriptor['path'])\n",
    "df.set_index(\"Country_Code\", inplace = True) "
   ]
  },
  {
   "cell_type": "code",
   "execution_count": null,
   "metadata": {},
   "outputs": [],
   "source": [
    "# df.head()\n",
    "# print(df.shape)\n",
    "\n",
    "# the most recent year: 2016\n",
    "df16= df.iloc[:, -1]\n",
    "# df16.sort_values().tail(20)"
   ]
  },
  {
   "cell_type": "code",
   "execution_count": null,
   "metadata": {},
   "outputs": [],
   "source": [
    "# Find the country code and merge them"
   ]
  },
  {
   "cell_type": "code",
   "execution_count": null,
   "metadata": {},
   "outputs": [],
   "source": [
    "url = \"https://gist.githubusercontent.com/tadast/8827699/raw/3cd639fa34eec5067080a61c69e3ae25e3076abb/countries_codes_and_coordinates.csv\"\n",
    "df_code3 = pd.read_csv(url)\n",
    "code3 = df_code3[\"Alpha-3 code\"][0]\n",
    "\n",
    "# for i, c in enumerate(code3):\n",
    "#     print(i,c)\n",
    "# # the length is not 3, and the longtitude/latitude have the same problem. \n",
    "\n",
    "# reset to \n",
    "df_code3[\"Code3\"] = df_code3[\"Alpha-3 code\"].map(lambda x: x.strip()[1:-1] )\n",
    "df_code3[\"Lat\"] = df_code3[\"Latitude (average)\"].map(lambda x: x.strip()[1:-1]) \n",
    "df_code3[\"Long\"] = df_code3[\"Longitude (average)\"].map(lambda x: x.strip()[1:-1]) \n",
    "\n",
    "# set index \n",
    "df_code3.set_index(\"Code3\", inplace=True )\n",
    "\n",
    "# keep only the long and lat cols.\n",
    "df_code3=df_code3.iloc[:, [-2, -1]]\n",
    "# df_code3.shape # 256 rows\n"
   ]
  },
  {
   "cell_type": "code",
   "execution_count": null,
   "metadata": {},
   "outputs": [],
   "source": [
    "# there are no missing value, but some duplicated: 24 rows\n",
    "df_code3.isna().sum() # none\n",
    "\n",
    "# du=df_code3[df_code3.duplicated()] # 24 : 12 are extra\n",
    "# print(du.size)\n",
    "\n",
    "#remove\n",
    "df_code3 = df_code3.drop_duplicates()\n",
    "# df_code3"
   ]
  },
  {
   "cell_type": "code",
   "execution_count": null,
   "metadata": {},
   "outputs": [],
   "source": [
    "# Merge"
   ]
  },
  {
   "cell_type": "code",
   "execution_count": null,
   "metadata": {},
   "outputs": [],
   "source": [
    "# use left-join-right\n",
    "df_m= df_code3.join(df) \n",
    "# df_m"
   ]
  },
  {
   "cell_type": "code",
   "execution_count": null,
   "metadata": {},
   "outputs": [],
   "source": [
    "# some country's name is missing: 32 countries\n",
    "df_m.Country.isna().sum()\n",
    "\n",
    "# # keep only the country which has name in it \n",
    "df_good = df_m[df_m.Country.notna()]\n",
    "\n",
    "# df_good"
   ]
  },
  {
   "cell_type": "code",
   "execution_count": null,
   "metadata": {},
   "outputs": [],
   "source": [
    "# drop duplicated: non\n",
    "# df_good.duplicated().sum()\n"
   ]
  },
  {
   "cell_type": "code",
   "execution_count": null,
   "metadata": {},
   "outputs": [],
   "source": [
    "# set-index by Country name\n",
    "df_good.set_index([\"Country\"], inplace=True)\n",
    "\n",
    "# no duplicated\n",
    "# df_good[df_good.duplicated()].sum().sum()"
   ]
  },
  {
   "cell_type": "markdown",
   "metadata": {},
   "source": [
    "# Top 10 countries in population (2016)"
   ]
  },
  {
   "cell_type": "code",
   "execution_count": null,
   "metadata": {},
   "outputs": [],
   "source": [
    "# # Population top 10 in 2016\n",
    "df_2016 =pd.DataFrame(df_good.loc[:, 'Year_2016'])\n",
    "df_2016.dropna(inplace=True)\n",
    "df_2016.sort_values(by=\"Year_2016\", ascending =False).head(10).applymap(lambda x:int(x)) "
   ]
  },
  {
   "cell_type": "code",
   "execution_count": null,
   "metadata": {},
   "outputs": [],
   "source": [
    "# In year 2016, top n\n",
    "def f_bar(Top_n_2016):\n",
    "    df_top=df_2016.sort_values(by=\"Year_2016\", ascending=False).head(Top_n_2016)\n",
    "    df_top.plot(kind = 'bar',  subplots= True, figsize=(20,5), legend = None)\n",
    "    plt.title(\" Top counties in year 2016\")\n",
    "    plt.show()  \n",
    "    \n",
    "    \n",
    "# bar by country    \n",
    "if __name__ == \"__main__\": \n",
    "    interact(f_bar, Top_n_2016=(1,20))"
   ]
  },
  {
   "cell_type": "markdown",
   "metadata": {},
   "source": [
    "# Global population changes over time"
   ]
  },
  {
   "cell_type": "code",
   "execution_count": null,
   "metadata": {},
   "outputs": [],
   "source": [
    "# find the total of each year\n",
    "Total_all_year = df_good.iloc[:, 2:-1].sum()\n",
    "\n",
    "Total_all_year.plot(figsize=(10, 5), title = \"Global Population vs Years\")\n",
    "plt.show()"
   ]
  },
  {
   "cell_type": "markdown",
   "metadata": {},
   "source": [
    "# Population Changes Country by Country"
   ]
  },
  {
   "cell_type": "code",
   "execution_count": null,
   "metadata": {},
   "outputs": [],
   "source": [
    "# interact:  Draw a year-year for each country\n",
    "def f_bar(Country):\n",
    "    df_good.loc[Country, \"Year_1960\":\"Year_2016\"].plot( kind= \"bar\", color=['r', 'b', 'g','k'], figsize=(15,5))\n",
    "    plt.title(\" Population change of each country \")\n",
    "\n",
    "    \n",
    "# drop box by country    \n",
    "if __name__ == \"__main__\": \n",
    "    interact(f_bar, Country=df_good.index)"
   ]
  },
  {
   "cell_type": "code",
   "execution_count": null,
   "metadata": {},
   "outputs": [],
   "source": [
    "# remove the longitude and latitude\n",
    "df_year = df_good.iloc[:, 2:].T # change the year only as index\n",
    "\n",
    "\n",
    "# by line \n",
    "def f_slide(Year):\n",
    "    ind = Year-1960\n",
    "    df_xy = df_year.iloc[ind, :]\n",
    "    df_xy.plot(kind= \"bar\", figsize=(30,10));\n",
    "    plt.title(\" Population - year\")\n",
    "    \n",
    "# use the country_data: change by year    \n",
    "if __name__ == \"__main__\":\n",
    "    interact(f_slide, Year=(1960, 2016) )\n",
    "#     interact(f_line, year=(df_year.index))   #n=(1,20)"
   ]
  },
  {
   "cell_type": "code",
   "execution_count": null,
   "metadata": {},
   "outputs": [],
   "source": [
    "#one missing \n",
    "df_good[df_good.Year_2016.isna()]\n",
    "\n",
    "# # keep all non-na\n",
    "df_good = df_good[df_good.Year_2016.notna()]\n"
   ]
  },
  {
   "cell_type": "markdown",
   "metadata": {},
   "source": [
    "# 2016 Global Population Map"
   ]
  },
  {
   "cell_type": "code",
   "execution_count": null,
   "metadata": {
    "scrolled": true
   },
   "outputs": [],
   "source": [
    "import folium\n",
    "world_map = folium.Map(location=[11,0], \n",
    "                      \n",
    "                       zoom_start=1, max_zoom = 10, min_zoom = 2)\n",
    "\n",
    "for i in range(0,len(df_good)):\n",
    "    folium.Circle(\n",
    "        location=[df_good.iloc[i]['Lat'], df_good.iloc[i]['Long']],\n",
    "        fill=True,\n",
    "        radius=( df_good.iloc[i,-1]/1000),\n",
    "        color='blue',\n",
    "        tooltip = \"<div style='margin: 0; background-color: black; color: white;'>\"+\n",
    "                    \"<h4 style='text-align:center;font-weight: bold'>\"+ df_good.index[i] + \"</h4>\"\n",
    "                    \"<hr style='margin:10px;color: white;'>\"+\n",
    "                    \"<ul style='color: white;;list-style-type:circle;align-item:left;padding-left:20px;padding-right:20px'>\"+\n",
    "                        \"<li>2016 Population: \"+str(int(df_good.iloc[i,-1]) )+\"</li>\"+\n",
    "                    \"</ul></div>\",\n",
    "        fill_color='indigo',\n",
    "        ).add_to(world_map)\n",
    "\n",
    "world_map"
   ]
  },
  {
   "cell_type": "markdown",
   "metadata": {},
   "source": [
    "# Voila"
   ]
  },
  {
   "cell_type": "code",
   "execution_count": null,
   "metadata": {},
   "outputs": [],
   "source": [
    "\n",
    "# coming soon"
   ]
  },
  {
   "cell_type": "code",
   "execution_count": null,
   "metadata": {},
   "outputs": [],
   "source": [
    "# if __name__ == '__main__':\n",
    "#     !voila  Global_population.ipynb --theme=dark --template=material"
   ]
  },
  {
   "cell_type": "code",
   "execution_count": null,
   "metadata": {},
   "outputs": [],
   "source": []
  }
 ],
 "metadata": {
  "kernelspec": {
   "display_name": "Python 3",
   "language": "python",
   "name": "python3"
  },
  "language_info": {
   "codemirror_mode": {
    "name": "ipython",
    "version": 3
   },
   "file_extension": ".py",
   "mimetype": "text/x-python",
   "name": "python",
   "nbconvert_exporter": "python",
   "pygments_lexer": "ipython3",
   "version": "3.7.6"
  },
  "toc": {
   "base_numbering": 1,
   "nav_menu": {},
   "number_sections": true,
   "sideBar": true,
   "skip_h1_title": false,
   "title_cell": "Table of Contents",
   "title_sidebar": "Contents",
   "toc_cell": false,
   "toc_position": {},
   "toc_section_display": true,
   "toc_window_display": false
  },
  "varInspector": {
   "cols": {
    "lenName": 16,
    "lenType": 16,
    "lenVar": 40
   },
   "kernels_config": {
    "python": {
     "delete_cmd_postfix": "",
     "delete_cmd_prefix": "del ",
     "library": "var_list.py",
     "varRefreshCmd": "print(var_dic_list())"
    },
    "r": {
     "delete_cmd_postfix": ") ",
     "delete_cmd_prefix": "rm(",
     "library": "var_list.r",
     "varRefreshCmd": "cat(var_dic_list()) "
    }
   },
   "types_to_exclude": [
    "module",
    "function",
    "builtin_function_or_method",
    "instance",
    "_Feature"
   ],
   "window_display": false
  }
 },
 "nbformat": 4,
 "nbformat_minor": 4
}
