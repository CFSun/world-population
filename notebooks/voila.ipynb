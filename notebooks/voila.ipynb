{
 "cells": [
  {
   "cell_type": "markdown",
   "metadata": {},
   "source": [
    "## Looking for world population?\n",
    " - The last data from the World Bank is the global county population in 2016\n",
    " - You can find the top countries of populations\n",
    " - You also can find it in the world map.\n",
    " ---"
   ]
  },
  {
   "cell_type": "code",
   "execution_count": 1,
   "metadata": {},
   "outputs": [],
   "source": [
    "import numpy as np\n",
    "import pandas as pd \n",
    "import matplotlib.pyplot as plt\n",
    "from ipywidgets import interactive\n",
    "%matplotlib inline"
   ]
  },
  {
   "cell_type": "code",
   "execution_count": 2,
   "metadata": {},
   "outputs": [
    {
     "data": {
      "application/vnd.jupyter.widget-view+json": {
       "model_id": "3b1ea32ab3134842b6ff7096b4bc066c",
       "version_major": 2,
       "version_minor": 0
      },
      "text/plain": [
       "interactive(children=(FloatSlider(value=-1.0, description='a', max=0.0, min=-1.0), FloatSlider(value=0.55, des…"
      ]
     },
     "metadata": {},
     "output_type": "display_data"
    }
   ],
   "source": [
    "def plot_func(a, f):\n",
    "    plt.figure(2)\n",
    "    x = np.linspace(0, 2*np.pi, num=1000)\n",
    "    y = a*np.sin(1/f*x)\n",
    "    plt.plot(x,y)\n",
    "    plt.ylim(-1.1, 1.1)\n",
    "    plt.title('a sin(f)')\n",
    "    plt.show()\n",
    "\n",
    "interactive_plot = interactive(plot_func, a=(-1,0,0.1), f=(0.1, 1))\n",
    "output = interactive_plot.children[-1]\n",
    "output.layout.height = '300px'\n",
    "interactive_plot"
   ]
  },
  {
   "cell_type": "code",
   "execution_count": 3,
   "metadata": {},
   "outputs": [],
   "source": [
    "# read in population data from internet\n",
    "import pandas as pd \n",
    "import datapackage\n",
    "\n",
    "data_url = 'https://datahub.io/JohnSnowLabs/population-figures-by-country/datapackage.json'\n",
    "\n",
    "# to load Data Package into storage\n",
    "package = datapackage.Package(data_url)\n",
    "\n",
    "# to load only tabular data\n",
    "resources = package.resources\n",
    "for resource in resources:\n",
    "    if resource.tabular:\n",
    "        df = pd.read_csv(resource.descriptor['path'])\n",
    "df.set_index(\"Country_Code\", inplace = True) \n"
   ]
  },
  {
   "cell_type": "code",
   "execution_count": 4,
   "metadata": {},
   "outputs": [],
   "source": [
    "# df.head()\n",
    "# print(df.shape)\n",
    "\n",
    "# the most recent year: 2016\n",
    "df16= df.iloc[:, -1]\n",
    "# df16.sort_values().tail(20)\n",
    "\n",
    "\n",
    "url = \"https://gist.githubusercontent.com/tadast/8827699/raw/3cd639fa34eec5067080a61c69e3ae25e3076abb/countries_codes_and_coordinates.csv\"\n",
    "df_code3 = pd.read_csv(url)\n",
    "code3 = df_code3[\"Alpha-3 code\"][0]\n",
    "\n",
    "# for i, c in enumerate(code3):\n",
    "#     print(i,c)\n",
    "# # the length is not 3, and the longtitude/latitude have the same problem. \n",
    "\n",
    "# reset to \n",
    "df_code3[\"Code3\"] = df_code3[\"Alpha-3 code\"].map(lambda x: x.strip()[1:-1] )\n",
    "df_code3[\"Lat\"] = df_code3[\"Latitude (average)\"].map(lambda x: x.strip()[1:-1]) \n",
    "df_code3[\"Long\"] = df_code3[\"Longitude (average)\"].map(lambda x: x.strip()[1:-1]) \n",
    "\n",
    "# set index \n",
    "df_code3.set_index(\"Code3\", inplace=True )\n",
    "\n",
    "# keep only the long and lat cols.\n",
    "df_code3=df_code3.iloc[:, [-2, -1]]\n",
    "# df_code3.shape # 256 rows\n"
   ]
  },
  {
   "cell_type": "code",
   "execution_count": 5,
   "metadata": {},
   "outputs": [],
   "source": [
    "# there are no missing value, but some duplicated: 24 rows\n",
    "df_code3.isna().sum() # none\n",
    "\n",
    "# du=df_code3[df_code3.duplicated()] # 24 : 12 are extra\n",
    "# print(du.size)\n",
    "\n",
    "#remove\n",
    "df_code3 = df_code3.drop_duplicates()\n",
    "# df_code3"
   ]
  },
  {
   "cell_type": "code",
   "execution_count": 6,
   "metadata": {},
   "outputs": [],
   "source": [
    "# use left-join-right\n",
    "df_m= df_code3.join(df) \n",
    "# df_m"
   ]
  },
  {
   "cell_type": "code",
   "execution_count": 7,
   "metadata": {},
   "outputs": [],
   "source": [
    "# some country's name is missing: 32 countries\n",
    "df_m.Country.isna().sum()\n",
    "\n",
    "# # keep only the country which has name in it \n",
    "df_good = df_m[df_m.Country.notna()]\n",
    "\n",
    "# df_good"
   ]
  },
  {
   "cell_type": "code",
   "execution_count": 8,
   "metadata": {},
   "outputs": [],
   "source": [
    "# set-index by Country name\n",
    "df_good.set_index([\"Country\"], inplace=True)\n",
    "\n",
    "# no duplicated\n",
    "# df_good[df_good.duplicated()].sum().sum()"
   ]
  },
  {
   "cell_type": "code",
   "execution_count": 9,
   "metadata": {},
   "outputs": [
    {
     "data": {
      "text/html": [
       "<div>\n",
       "<style scoped>\n",
       "    .dataframe tbody tr th:only-of-type {\n",
       "        vertical-align: middle;\n",
       "    }\n",
       "\n",
       "    .dataframe tbody tr th {\n",
       "        vertical-align: top;\n",
       "    }\n",
       "\n",
       "    .dataframe thead th {\n",
       "        text-align: right;\n",
       "    }\n",
       "</style>\n",
       "<table border=\"1\" class=\"dataframe\">\n",
       "  <thead>\n",
       "    <tr style=\"text-align: right;\">\n",
       "      <th></th>\n",
       "      <th>Year_2016</th>\n",
       "    </tr>\n",
       "    <tr>\n",
       "      <th>Country</th>\n",
       "      <th></th>\n",
       "    </tr>\n",
       "  </thead>\n",
       "  <tbody>\n",
       "    <tr>\n",
       "      <th>China</th>\n",
       "      <td>1378665000</td>\n",
       "    </tr>\n",
       "    <tr>\n",
       "      <th>India</th>\n",
       "      <td>1324171354</td>\n",
       "    </tr>\n",
       "    <tr>\n",
       "      <th>United States</th>\n",
       "      <td>323127513</td>\n",
       "    </tr>\n",
       "    <tr>\n",
       "      <th>Indonesia</th>\n",
       "      <td>261115456</td>\n",
       "    </tr>\n",
       "    <tr>\n",
       "      <th>Brazil</th>\n",
       "      <td>207652865</td>\n",
       "    </tr>\n",
       "    <tr>\n",
       "      <th>Pakistan</th>\n",
       "      <td>193203476</td>\n",
       "    </tr>\n",
       "    <tr>\n",
       "      <th>Nigeria</th>\n",
       "      <td>185989640</td>\n",
       "    </tr>\n",
       "    <tr>\n",
       "      <th>Bangladesh</th>\n",
       "      <td>162951560</td>\n",
       "    </tr>\n",
       "    <tr>\n",
       "      <th>Russian Federation</th>\n",
       "      <td>144342396</td>\n",
       "    </tr>\n",
       "    <tr>\n",
       "      <th>Mexico</th>\n",
       "      <td>127540423</td>\n",
       "    </tr>\n",
       "  </tbody>\n",
       "</table>\n",
       "</div>"
      ],
      "text/plain": [
       "                     Year_2016\n",
       "Country                       \n",
       "China               1378665000\n",
       "India               1324171354\n",
       "United States        323127513\n",
       "Indonesia            261115456\n",
       "Brazil               207652865\n",
       "Pakistan             193203476\n",
       "Nigeria              185989640\n",
       "Bangladesh           162951560\n",
       "Russian Federation   144342396\n",
       "Mexico               127540423"
      ]
     },
     "execution_count": 9,
     "metadata": {},
     "output_type": "execute_result"
    }
   ],
   "source": [
    "# # Population top 10 in 2016\n",
    "df_2016 =pd.DataFrame(df_good.loc[:, 'Year_2016'])\n",
    "df_2016.dropna(inplace=True)\n",
    "df_2016.sort_values(by=\"Year_2016\", ascending =False).head(10).applymap(lambda x:int(x)) "
   ]
  },
  {
   "cell_type": "code",
   "execution_count": null,
   "metadata": {},
   "outputs": [],
   "source": []
  }
 ],
 "metadata": {
  "kernelspec": {
   "display_name": "Python 3",
   "language": "python",
   "name": "python3"
  },
  "language_info": {
   "codemirror_mode": {
    "name": "ipython",
    "version": 3
   },
   "file_extension": ".py",
   "mimetype": "text/x-python",
   "name": "python",
   "nbconvert_exporter": "python",
   "pygments_lexer": "ipython3",
   "version": "3.7.6"
  },
  "toc": {
   "base_numbering": 1,
   "nav_menu": {},
   "number_sections": true,
   "sideBar": true,
   "skip_h1_title": false,
   "title_cell": "Table of Contents",
   "title_sidebar": "Contents",
   "toc_cell": false,
   "toc_position": {},
   "toc_section_display": true,
   "toc_window_display": false
  },
  "varInspector": {
   "cols": {
    "lenName": 16,
    "lenType": 16,
    "lenVar": 40
   },
   "kernels_config": {
    "python": {
     "delete_cmd_postfix": "",
     "delete_cmd_prefix": "del ",
     "library": "var_list.py",
     "varRefreshCmd": "print(var_dic_list())"
    },
    "r": {
     "delete_cmd_postfix": ") ",
     "delete_cmd_prefix": "rm(",
     "library": "var_list.r",
     "varRefreshCmd": "cat(var_dic_list()) "
    }
   },
   "types_to_exclude": [
    "module",
    "function",
    "builtin_function_or_method",
    "instance",
    "_Feature"
   ],
   "window_display": false
  }
 },
 "nbformat": 4,
 "nbformat_minor": 4
}
